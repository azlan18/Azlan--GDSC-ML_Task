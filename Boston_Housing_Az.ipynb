{
  "nbformat": 4,
  "nbformat_minor": 0,
  "metadata": {
    "colab": {
      "provenance": []
    },
    "kernelspec": {
      "name": "python3",
      "display_name": "Python 3"
    },
    "language_info": {
      "name": "python"
    }
  },
  "cells": [
    {
      "cell_type": "markdown",
      "source": [
        "**Importing libraries**"
      ],
      "metadata": {
        "id": "N_-JtYrjxMFm"
      }
    },
    {
      "cell_type": "code",
      "execution_count": null,
      "metadata": {
        "id": "hcHPuKtwvrh2"
      },
      "outputs": [],
      "source": [
        "import pandas as pd\n",
        "import numpy as np"
      ]
    },
    {
      "cell_type": "markdown",
      "source": [
        "**Importing Datset**"
      ],
      "metadata": {
        "id": "IxjnhwVpytaZ"
      }
    },
    {
      "cell_type": "code",
      "source": [
        "dataset = pd.read_csv('housing.csv')\n",
        "selected_features = ['RM','LSTAT','PTRATIO']\n",
        "\n",
        "#Checking for any null values in the dataset\n",
        "print(dataset.isnull().sum())\n",
        "\n",
        "X = dataset[selected_features]\n",
        "y = (dataset['MEDV'])"
      ],
      "metadata": {
        "colab": {
          "base_uri": "https://localhost:8080/"
        },
        "id": "jFYfMD4IxSP3",
        "outputId": "6d950db9-47af-4f57-92b1-58e9ddb877a3"
      },
      "execution_count": null,
      "outputs": [
        {
          "output_type": "stream",
          "name": "stdout",
          "text": [
            "RM         0\n",
            "LSTAT      0\n",
            "PTRATIO    0\n",
            "MEDV       0\n",
            "dtype: int64\n"
          ]
        }
      ]
    },
    {
      "cell_type": "markdown",
      "source": [
        "**Splitting into training and test sets**"
      ],
      "metadata": {
        "id": "X7xglmwH0x7h"
      }
    },
    {
      "cell_type": "code",
      "source": [
        "from sklearn.model_selection import train_test_split\n",
        "X_train, X_test, y_train, y_test = train_test_split(X, y, test_size=0.2, random_state=0)\n",
        "print(X_train)"
      ],
      "metadata": {
        "id": "vkXymvlJ0bAY",
        "colab": {
          "base_uri": "https://localhost:8080/"
        },
        "outputId": "59d0c1a8-5ec5-4aa5-df2e-f067f39770d7"
      },
      "execution_count": null,
      "outputs": [
        {
          "output_type": "stream",
          "name": "stdout",
          "text": [
            "        RM  LSTAT  PTRATIO\n",
            "447  6.209  13.22     20.2\n",
            "457  5.427  18.14     20.2\n",
            "386  5.349  19.77     20.2\n",
            "361  6.380  23.69     20.2\n",
            "221  6.552   3.76     17.4\n",
            "..     ...    ...      ...\n",
            "323  6.310   6.75     20.2\n",
            "192  7.274   6.62     12.6\n",
            "117  6.021  10.30     17.8\n",
            "47   6.030  18.80     17.9\n",
            "172  6.020  10.11     16.6\n",
            "\n",
            "[391 rows x 3 columns]\n"
          ]
        }
      ]
    },
    {
      "cell_type": "markdown",
      "source": [
        "**Applying feature scaling to our dataset**"
      ],
      "metadata": {
        "id": "DBN3h9Bf1wrT"
      }
    },
    {
      "cell_type": "code",
      "source": [
        "from sklearn.preprocessing import StandardScaler\n",
        "# Create a StandardScaler instance\n",
        "scaler = StandardScaler()\n",
        "\n",
        "# Fit and transform the scaler on the training data\n",
        "X_train_scaled = scaler.fit_transform(X_train)\n",
        "\n",
        "# Transform the test data using the same scaler\n",
        "X_test_scaled = scaler.transform(X_test)\n",
        "print(X_train_scaled)"
      ],
      "metadata": {
        "id": "gNQCp0Ia2j0L",
        "colab": {
          "base_uri": "https://localhost:8080/"
        },
        "outputId": "7109ea5e-9659-468d-86d1-b300bef5faa8"
      },
      "execution_count": null,
      "outputs": [
        {
          "output_type": "stream",
          "name": "stdout",
          "text": [
            "[[-0.03187316  0.04649813  0.78568433]\n",
            " [-1.24840058  0.74833711  0.78568433]\n",
            " [-1.36974219  0.98085693  0.78568433]\n",
            " ...\n",
            " [-0.32433755 -0.37004046 -0.36758671]\n",
            " [-0.3103366   0.84248624 -0.31953375]\n",
            " [-0.32589321 -0.39714399 -0.94422223]]\n"
          ]
        }
      ]
    },
    {
      "cell_type": "code",
      "source": [
        "# Create and train a linear regression model on the scaled data\n",
        "from sklearn.linear_model import LinearRegression\n",
        "from sklearn.metrics import mean_squared_error\n",
        "model = LinearRegression()\n",
        "model.fit(X_train_scaled, y_train)\n",
        "\n",
        "# Make predictions on the scaled test set\n",
        "y_pred = model.predict(X_test_scaled)\n",
        "\n",
        "# Calculate the Mean Squared Error (MSE) on the test set\n",
        "mse = mean_squared_error(y_test, y_pred)\n",
        "\n",
        "# Report the MSE\n",
        "print(\"Mean Squared Error on Test Set (with StandardScaler):\", mse)"
      ],
      "metadata": {
        "colab": {
          "base_uri": "https://localhost:8080/"
        },
        "id": "PwMM48LLUH2C",
        "outputId": "b90850b1-b941-4ea2-8b33-bb299e067696"
      },
      "execution_count": null,
      "outputs": [
        {
          "output_type": "stream",
          "name": "stdout",
          "text": [
            "Mean Squared Error on Test Set (with StandardScaler): 9727501160.084394\n"
          ]
        }
      ]
    }
  ]
}